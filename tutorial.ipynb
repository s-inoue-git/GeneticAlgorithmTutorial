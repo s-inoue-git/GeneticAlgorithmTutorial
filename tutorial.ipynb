{
 "cells": [
  {
   "cell_type": "markdown",
   "metadata": {},
   "source": [
    "# Reference URL"
   ]
  },
  {
   "cell_type": "markdown",
   "metadata": {},
   "source": [
    "[遺伝的アルゴリズム\u000b",
    "（Genetic Algorithm）を始めよう！](https://www.slideshare.net/kzokm/genetic-algorithm-41617242)  \n",
    "[進化計算ライブラリDEAPで実数値GA](https://qiita.com/tyoshitake/items/e76f6f8e4110731606bc)  "
   ]
  },
  {
   "cell_type": "code",
   "execution_count": 51,
   "metadata": {},
   "outputs": [],
   "source": [
    "import array\n",
    "import numpy as np\n",
    "import random\n",
    "from deap import base, creator, tools, algorithms\n",
    "from deap.benchmarks import ackley, rastrigin\n",
    "import matplotlib.pyplot as plt"
   ]
  },
  {
   "cell_type": "markdown",
   "metadata": {},
   "source": [
    "# In case of Real number encoding GA"
   ]
  },
  {
   "cell_type": "code",
   "execution_count": 52,
   "metadata": {},
   "outputs": [],
   "source": [
    "#適応度の目標と個体のタイプを指定\n",
    "creator.create(\"FitnessMin\", base.Fitness, weights=(-1.0,)) #-1.0で最小値を求める\n",
    "creator.create(\"Individual\", np.ndarray, fitness=creator.FitnessMin)"
   ]
  },
  {
   "cell_type": "code",
   "execution_count": 53,
   "metadata": {},
   "outputs": [],
   "source": [
    "#ツールボックスの作成\n",
    "toolbox = base.Toolbox()\n",
    "\n",
    "#遺伝子の数\n",
    "n_gene = 2\n",
    "\n",
    "#初期遺伝子の指定\n",
    "toolbox.register(\"attr_float\", random.uniform, -500, 500)\n",
    "toolbox.register(\"individual\", tools.initRepeat, creator.Individual, toolbox.attr_float, n=n_gene)\n",
    "toolbox.register(\"population\", tools.initRepeat, list, toolbox.individual)\n",
    "\n",
    "#オペレーターの指定\n",
    "toolbox.register(\"evaluate\", rastrigin) #ベンチマークとして使用される評価関数を使用（https://en.wikipedia.org/wiki/Rastrigin_function）\n",
    "toolbox.register(\"mate\", tools.cxBlend, alpha=0.05)\n",
    "toolbox.register(\"mutate\", tools.mutFlipBit, indpb=0.05)\n",
    "toolbox.register(\"select\", tools.selTournament, tournsize=3)\n",
    "\n",
    "#保存する統計値の指定\n",
    "stats = tools.Statistics(lambda ind: ind.fitness.values)\n",
    "stats.register(\"avg\", np.mean)\n",
    "stats.register(\"min\", np.min)"
   ]
  },
  {
   "cell_type": "code",
   "execution_count": 54,
   "metadata": {},
   "outputs": [
    {
     "name": "stdout",
     "output_type": "stream",
     "text": [
      "最適解 [0. 0.]\n"
     ]
    },
    {
     "data": {
      "image/png": "[encoded data removed]",
      "text/plain": [
       "<Figure size 432x288 with 1 Axes>"
      ]
     },
     "metadata": {
      "needs_background": "light"
     },
     "output_type": "display_data"
    }
   ],
   "source": [
    "#パラーメーター\n",
    "pop_size = 10\n",
    "max_gen = 20\n",
    "cxpb=0.5\n",
    "mutpb=0.2\n",
    "random.seed(12345)\n",
    "\n",
    "#初期遺伝子の生成\n",
    "pop = toolbox.population(n=pop_size)\n",
    "hof = tools.HallOfFame(1, similar=np.array_equal) #最終的によさげな解を格納する\n",
    "\n",
    "#遺伝的アルゴリズムの実行\n",
    "pop, log = algorithms.eaSimple(pop, toolbox, cxpb=cxpb, mutpb=mutpb, ngen=max_gen, \n",
    "                               stats=stats, halloffame=hof, verbose=False)\n",
    "\n",
    "#最適解の出力\n",
    "print(\"最適解\", [v for v in hof][0])\n",
    "\n",
    "#学習曲線のプロット\n",
    "plt.plot(log.select(\"gen\"), log.select(\"min\"))\n",
    "plt.show()"
   ]
  },
  {
   "cell_type": "markdown",
   "metadata": {},
   "source": [
    "## how to set Initial gene "
   ]
  },
  {
   "cell_type": "code",
   "execution_count": 55,
   "metadata": {},
   "outputs": [
    {
     "data": {
      "text/plain": [
       "[Individual([0., 0.]),\n",
       " Individual([0., 0.]),\n",
       " Individual([0., 0.]),\n",
       " Individual([0., 0.]),\n",
       " Individual([0., 0.]),\n",
       " Individual([0., 0.]),\n",
       " Individual([0., 0.]),\n",
       " Individual([0., 0.]),\n",
       " Individual([0., 0.]),\n",
       " Individual([0., 0.])]"
      ]
     },
     "execution_count": 55,
     "metadata": {},
     "output_type": "execute_result"
    }
   ],
   "source": [
    "#初期遺伝子の生成\n",
    "n_gene = 2\n",
    "pop_size = 10\n",
    "\n",
    "#要素がすべて「0」のpopを生成\n",
    "init_ind = tools.initRepeat(creator.Individual, toolbox.attr_float, n=n_gene)\n",
    "init_ind[0] = 0\n",
    "init_ind[1] = 0\n",
    "pop = [init_ind for i in range(pop_size)]\n",
    "pop"
   ]
  },
  {
   "cell_type": "code",
   "execution_count": 56,
   "metadata": {},
   "outputs": [
    {
     "name": "stdout",
     "output_type": "stream",
     "text": [
      "最適解 [0. 0.]\n"
     ]
    },
    {
     "data": {
      "image/png": "[encoded data removed]",
      "text/plain": [
       "<Figure size 432x288 with 1 Axes>"
      ]
     },
     "metadata": {
      "needs_background": "light"
     },
     "output_type": "display_data"
    }
   ],
   "source": [
    "#パラーメーター\n",
    "max_gen = 20\n",
    "cxpb=0.5\n",
    "mutpb=0.2\n",
    "random.seed(12345)\n",
    "\n",
    "hof = tools.HallOfFame(1, similar=np.array_equal) #最終的によさげな解を格納する\n",
    "\n",
    "#遺伝的アルゴリズムの実行\n",
    "pop, log = algorithms.eaSimple(pop, toolbox, cxpb=cxpb, mutpb=mutpb, ngen=max_gen, \n",
    "                               stats=stats, halloffame=hof, verbose=False)\n",
    "\n",
    "#最適解の出力\n",
    "print(\"最適解\", [v for v in hof][0])\n",
    "\n",
    "#学習曲線のプロット\n",
    "plt.plot(log.select(\"gen\"), log.select(\"min\"))\n",
    "plt.show()"
   ]
  },
  {
   "cell_type": "markdown",
   "metadata": {},
   "source": [
    "↑#はじめから最適解が[0,0]がセットされているため、学習がはじめから終わっている"
   ]
  },
  {
   "cell_type": "markdown",
   "metadata": {},
   "source": [
    "# In case of permutation encoding GA"
   ]
  },
  {
   "cell_type": "markdown",
   "metadata": {},
   "source": [
    "## continual integer number(1,2,3・・) permutation"
   ]
  },
  {
   "cell_type": "code",
   "execution_count": 74,
   "metadata": {},
   "outputs": [],
   "source": [
    "#orderが1,2,3・・と並んでいれば高評価を受ける関数を作成\n",
    "def evaluation_function(orders):\n",
    "    weighted_order = [i*order for i, order in enumerate(orders)]\n",
    "    return [sum(weighted_order)] #※絶対にリストで返す"
   ]
  },
  {
   "cell_type": "code",
   "execution_count": 75,
   "metadata": {},
   "outputs": [],
   "source": [
    "creator.create(\"FitnessMin\", base.Fitness, weights=(-1.0,))\n",
    "creator.create(\"Individual\", list, fitness=creator.FitnessMin)"
   ]
  },
  {
   "cell_type": "code",
   "execution_count": 76,
   "metadata": {},
   "outputs": [],
   "source": [
    "IND_SIZE=20\n",
    "pop_size=50\n",
    "\n",
    "toolbox = base.Toolbox()\n",
    "toolbox.register(\"indices\", random.sample, range(IND_SIZE), IND_SIZE)\n",
    "toolbox.register(\"individual\", tools.initIterate, creator.Individual, toolbox.indices)\n",
    "toolbox.register(\"population\", tools.initRepeat, list, toolbox.individual, n=pop_size)\n",
    "\n",
    "pop = toolbox.population()\n",
    "#pop"
   ]
  },
  {
   "cell_type": "code",
   "execution_count": 77,
   "metadata": {},
   "outputs": [],
   "source": [
    "#オペレーターの指定\n",
    "toolbox.register(\"evaluate\", evaluation_function)\n",
    "toolbox.register(\"mate\", tools.cxPartialyMatched)\n",
    "toolbox.register(\"mutate\", tools.mutShuffleIndexes, indpb=0.05)\n",
    "toolbox.register(\"select\", tools.selTournament, tournsize=3)\n",
    "\n",
    "#保存する統計値の指定\n",
    "stats = tools.Statistics(lambda ind: ind.fitness.values)\n",
    "stats.register(\"avg\", np.mean)\n",
    "stats.register(\"min\", np.min)\n"
   ]
  },
  {
   "cell_type": "markdown",
   "metadata": {},
   "source": [
    "選択可能な交叉\n",
    "- deap.tools.cxPartialyMatched\n",
    "- cxUniformPartialyMatched\n",
    "- cxOrdered\n",
    "\n",
    "選択可能な突然変異\n",
    "- mutShuffleIndexes"
   ]
  },
  {
   "cell_type": "code",
   "execution_count": 78,
   "metadata": {},
   "outputs": [
    {
     "name": "stdout",
     "output_type": "stream",
     "text": [
      "最適解 [19, 18, 17, 16, 15, 14, 13, 12, 11, 10, 9, 8, 7, 6, 4, 5, 3, 2, 1, 0]\n"
     ]
    },
    {
     "data": {
      "image/png": "[encoded data removed]",
      "text/plain": [
       "<Figure size 432x288 with 1 Axes>"
      ]
     },
     "metadata": {
      "needs_background": "light"
     },
     "output_type": "display_data"
    }
   ],
   "source": [
    "#パラーメーター\n",
    "max_gen = 100\n",
    "cxpb=0.5\n",
    "mutpb=0.2\n",
    "random.seed(12345)\n",
    "\n",
    "hof = tools.HallOfFame(1) #最終的によさげな解を格納する\n",
    "\n",
    "#遺伝的アルゴリズムの実行\n",
    "pop, log = algorithms.eaSimple(pop, toolbox, cxpb=cxpb, mutpb=mutpb, ngen=max_gen, \n",
    "                               stats=stats, halloffame=hof, verbose=False)\n",
    "\n",
    "#最適解の出力\n",
    "print(\"最適解\", [v for v in hof][0])\n",
    "\n",
    "#学習曲線のプロット\n",
    "plt.plot(log.select(\"gen\"), log.select(\"min\"))\n",
    "plt.show()"
   ]
  },
  {
   "cell_type": "markdown",
   "metadata": {},
   "source": [
    "## Trip SalesMan Ploblem (TSP)"
   ]
  },
  {
   "cell_type": "code",
   "execution_count": 79,
   "metadata": {},
   "outputs": [],
   "source": [
    "IND_SIZE = NUMBER_OF_CITIES =100\n",
    "\n",
    "distances = np.zeros((NUMBER_OF_CITIES, NUMBER_OF_CITIES))\n",
    "for city in range(NUMBER_OF_CITIES):\n",
    "    cities = [ i for i in range(NUMBER_OF_CITIES) if not i == city ]\n",
    "    for to_city in cities:\n",
    "        distances[to_city][city] = \\\n",
    "            distances[city][to_city] = random.randint(50, 2000)"
   ]
  },
  {
   "cell_type": "code",
   "execution_count": 80,
   "metadata": {},
   "outputs": [],
   "source": [
    "def EVALUATE(individual):\n",
    "    summation = 0\n",
    "    start = individual[0]\n",
    "    for i in range(1, len(individual)):\n",
    "        end = individual[i]\n",
    "        summation += distances[start][end]\n",
    "        start = end\n",
    "    return [summation]"
   ]
  },
  {
   "cell_type": "code",
   "execution_count": 85,
   "metadata": {},
   "outputs": [
    {
     "data": {
      "image/png": "[encoded data removed]",
      "text/plain": [
       "<Figure size 432x288 with 1 Axes>"
      ]
     },
     "metadata": {
      "needs_background": "light"
     },
     "output_type": "display_data"
    }
   ],
   "source": [
    "import array\n",
    "import random\n",
    "import json\n",
    "import numpy\n",
    "from deap import algorithms\n",
    "from deap import base\n",
    "from deap import creator\n",
    "from deap import tools\n",
    "\n",
    "creator.create(\"FitnessMin\", base.Fitness, weights=(-1.0,))\n",
    "creator.create(\"Individual\", numpy.ndarray, typecode='i', fitness=creator.FitnessMin)\n",
    "\n",
    "toolbox = base.Toolbox()\n",
    "\n",
    "# Attribute generator\n",
    "toolbox.register(\"indices\", random.sample, range(IND_SIZE), IND_SIZE)\n",
    "\n",
    "# Structure initializers\n",
    "toolbox.register(\"individual\", tools.initIterate, creator.Individual, toolbox.indices)\n",
    "toolbox.register(\"population\", tools.initRepeat, list, toolbox.individual)\n",
    "\n",
    "toolbox.register(\"mate\", tools.cxPartialyMatched)\n",
    "toolbox.register(\"mutate\", tools.mutShuffleIndexes, indpb=0.05)\n",
    "toolbox.register(\"select\", tools.selTournament, tournsize=3)\n",
    "toolbox.register(\"evaluate\", EVALUATE)\n",
    "\n",
    "random.seed(169)\n",
    "\n",
    "pop = toolbox.population(n=300)\n",
    "\n",
    "hof = tools.HallOfFame(1, similar=np.array_equal)\n",
    "stats = tools.Statistics(lambda ind: ind.fitness.values)\n",
    "stats.register(\"avg\", numpy.mean)\n",
    "stats.register(\"std\", numpy.std)\n",
    "stats.register(\"min\", numpy.min)\n",
    "stats.register(\"max\", numpy.max)\n",
    "\n",
    "pop, stats = algorithms.eaSimple(pop, toolbox, 0.7, 0.2, 100, stats=stats, halloffame=hof, verbose=False)\n",
    "\n",
    "#学習曲線のプロット\n",
    "plt.plot(stats.select(\"gen\"), stats.select(\"min\"))\n",
    "plt.show()"
   ]
  },
  {
   "cell_type": "markdown",
   "metadata": {},
   "source": [
    "# Multi-plocessing execution"
   ]
  },
  {
   "cell_type": "markdown",
   "metadata": {},
   "source": [
    "[Using Multiple Processors](https://deap.readthedocs.io/en/master/tutorials/basic/part4.html)"
   ]
  },
  {
   "cell_type": "markdown",
   "metadata": {},
   "source": [
    "※※tips※※  \n",
    "you should execute python code from .py file when you use multiprocessing in deap"
   ]
  },
  {
   "cell_type": "code",
   "execution_count": 87,
   "metadata": {},
   "outputs": [
    {
     "name": "stdout",
     "output_type": "stream",
     "text": [
      "gen\tnevals\tavg   \tstd    \tmin  \tmax   \n",
      "0  \t300   \t102741\t5236.24\t86346\t120173\n",
      "1  \t216   \t100292\t5360.72\t85465\t114634\n",
      "2  \t222   \t99337.4\t5553.7 \t86346\t116251\n",
      "3  \t200   \t98895.2\t6220.38\t80726\t116332\n",
      "4  \t236   \t99515.1\t6419.77\t80726\t116694\n",
      "5  \t231   \t98998.9\t6092.31\t80726\t113485\n",
      "6  \t231   \t98501.3\t6167.53\t80726\t114576\n",
      "7  \t229   \t99160.9\t6762.23\t80726\t117009\n",
      "8  \t227   \t99417.9\t6437.47\t80726\t117918\n",
      "9  \t225   \t99079.2\t6441.48\t80726\t119950\n",
      "10 \t236   \t98615.9\t6384.75\t79436\t117485\n",
      "11 \t248   \t99280.6\t6234.73\t79436\t112320\n",
      "12 \t224   \t98355.3\t5931.03\t80726\t114455\n",
      "13 \t226   \t98733.7\t6138.02\t80726\t114908\n",
      "14 \t226   \t99439.9\t6338.15\t80726\t117004\n",
      "15 \t230   \t98883.6\t6152.49\t80726\t116634\n",
      "16 \t219   \t98206.8\t6031.67\t79782\t118436\n",
      "17 \t228   \t98732.2\t6184.02\t82375\t115336\n",
      "18 \t223   \t98567  \t6268.64\t82375\t114609\n",
      "19 \t238   \t99556.1\t6235.26\t82375\t117504\n",
      "20 \t229   \t98715.6\t6418.81\t82375\t118915\n",
      "21 \t222   \t98375.2\t6603.03\t82375\t115734\n",
      "22 \t228   \t98790.9\t6154.03\t82375\t113397\n",
      "23 \t212   \t98995.6\t5982.74\t81990\t112135\n",
      "24 \t236   \t99175.8\t6119.71\t81990\t117328\n",
      "25 \t233   \t98847  \t6426.43\t81990\t113834\n",
      "26 \t235   \t99060.1\t6449.41\t81990\t120863\n",
      "27 \t247   \t99367.2\t6529.64\t81971\t116323\n",
      "28 \t231   \t98949.2\t6244.51\t81990\t114993\n",
      "29 \t227   \t99170.4\t6463.07\t82675\t116381\n",
      "30 \t212   \t98948.1\t6271.13\t82675\t114468\n",
      "31 \t221   \t98638.5\t6675.11\t84478\t117623\n",
      "32 \t243   \t99025  \t6177.83\t85631\t116839\n",
      "33 \t229   \t99777.6\t6450.87\t84833\t118377\n",
      "34 \t227   \t99047.7\t6447.37\t83924\t117419\n",
      "35 \t204   \t98371.5\t6555.21\t83924\t116964\n",
      "36 \t236   \t99218.5\t6478.73\t83924\t116419\n",
      "37 \t230   \t98909.1\t6418.74\t80049\t114644\n",
      "38 \t231   \t99097.2\t6444   \t80049\t118978\n",
      "39 \t233   \t99513.1\t6238.24\t80049\t116485\n",
      "40 \t233   \t99040.7\t5693.51\t84318\t115873\n",
      "41 \t209   \t98698.6\t5590.13\t85883\t111774\n",
      "42 \t233   \t99386.2\t6039.89\t85398\t116123\n",
      "43 \t226   \t99383.5\t5909.07\t82938\t118514\n",
      "44 \t244   \t100103 \t5876.56\t84930\t118215\n",
      "45 \t220   \t99296.8\t5803.57\t84863\t113797\n",
      "46 \t228   \t99056.5\t6255.2 \t84516\t114008\n",
      "47 \t235   \t99378  \t6304.81\t84516\t116479\n",
      "48 \t214   \t98625  \t5700.93\t83573\t116495\n",
      "49 \t228   \t99103.3\t6194.76\t81902\t116100\n",
      "50 \t223   \t98953.7\t6018.78\t81902\t116779\n",
      "51 \t244   \t99239.3\t6517.5 \t78807\t118288\n",
      "52 \t259   \t99804.5\t6154.04\t81902\t117556\n",
      "53 \t214   \t98901.2\t5838.33\t83080\t118509\n",
      "54 \t217   \t98290.2\t5980.5 \t83080\t115392\n",
      "55 \t224   \t98527.2\t6611.67\t81496\t118377\n",
      "56 \t228   \t98704.5\t6486.68\t83856\t114147\n",
      "57 \t238   \t98723.4\t6303.14\t83856\t117568\n",
      "58 \t229   \t98873.8\t6542.61\t83856\t113878\n",
      "59 \t221   \t98200.4\t6275.95\t83856\t117669\n",
      "60 \t206   \t97733  \t6878.77\t79459\t112633\n",
      "61 \t228   \t98620  \t6700.9 \t79459\t116234\n",
      "62 \t224   \t98437.7\t6487.8 \t80879\t113870\n",
      "63 \t225   \t97970.5\t6224.79\t82312\t114117\n",
      "64 \t223   \t98360  \t6317.66\t82312\t115326\n",
      "65 \t240   \t98699  \t5998.97\t82312\t115170\n",
      "66 \t232   \t98622.7\t6662.7 \t82312\t116230\n",
      "67 \t235   \t98752  \t6216.43\t82312\t114019\n",
      "68 \t228   \t99024.3\t6258.42\t82312\t116626\n",
      "69 \t236   \t98604.9\t6240.55\t84051\t120124\n",
      "70 \t235   \t98824.1\t6216.45\t84051\t113658\n",
      "71 \t213   \t98130.6\t6121.88\t84051\t114640\n",
      "72 \t219   \t98175.1\t6585.88\t84051\t114570\n",
      "73 \t226   \t98449.6\t6380.89\t84051\t114890\n",
      "74 \t208   \t97923.9\t6713.21\t81572\t116308\n",
      "75 \t233   \t98305.4\t6428.76\t81572\t115469\n",
      "76 \t245   \t98974.1\t6120.65\t81572\t116892\n",
      "77 \t233   \t99194.5\t6001.44\t81572\t116496\n",
      "78 \t225   \t99114.2\t6122.99\t83174\t115779\n",
      "79 \t220   \t98713.5\t6005.39\t83174\t116465\n",
      "80 \t214   \t99073.3\t6700.99\t83174\t116419\n",
      "81 \t235   \t98807.4\t6053.67\t82561\t114462\n",
      "82 \t218   \t98700.3\t6080.67\t82561\t114990\n",
      "83 \t226   \t98292.2\t6498.16\t81625\t114802\n",
      "84 \t226   \t98242  \t6827.66\t82561\t115509\n",
      "85 \t211   \t97923.5\t6687.58\t81901\t119716\n",
      "86 \t217   \t97644  \t6890.96\t82834\t116964\n",
      "87 \t232   \t97773.7\t6308.23\t80570\t113461\n",
      "88 \t233   \t98929.4\t6758.08\t81964\t120634\n",
      "89 \t228   \t98635.3\t6571.32\t77760\t115579\n",
      "90 \t240   \t98776  \t6303.78\t77760\t119155\n",
      "91 \t237   \t99458.1\t6058.07\t82955\t115560\n",
      "92 \t239   \t99090.4\t6398.96\t84894\t116916\n",
      "93 \t225   \t98722.3\t5942.21\t82980\t111570\n",
      "94 \t232   \t98862.6\t6105.14\t82980\t113585\n",
      "95 \t227   \t99011  \t6302.76\t83666\t116506\n",
      "96 \t238   \t99246.5\t5948.18\t84254\t118815\n",
      "97 \t231   \t99351.3\t6034.49\t84254\t115549\n",
      "98 \t234   \t99200.1\t6062.9 \t84254\t118093\n",
      "99 \t232   \t99642.1\t6257.91\t84254\t119189\n",
      "100\t229   \t99650.8\t6513.01\t84254\t115774\n",
      "Figure(640x480)\n"
     ]
    }
   ],
   "source": [
    "#上記の遺伝的アルゴリズムを実行\n",
    "!python ParallelGA.py"
   ]
  },
  {
   "cell_type": "code",
   "execution_count": null,
   "metadata": {},
   "outputs": [],
   "source": []
  },
  {
   "cell_type": "code",
   "execution_count": null,
   "metadata": {},
   "outputs": [],
   "source": []
  },
  {
   "cell_type": "code",
   "execution_count": null,
   "metadata": {},
   "outputs": [],
   "source": []
  },
  {
   "cell_type": "code",
   "execution_count": null,
   "metadata": {},
   "outputs": [],
   "source": []
  },
  {
   "cell_type": "code",
   "execution_count": null,
   "metadata": {},
   "outputs": [],
   "source": []
  },
  {
   "cell_type": "code",
   "execution_count": null,
   "metadata": {},
   "outputs": [],
   "source": []
  },
  {
   "cell_type": "code",
   "execution_count": null,
   "metadata": {},
   "outputs": [],
   "source": []
  }
 ],
 "metadata": {
  "kernelspec": {
   "display_name": "Python 3",
   "language": "python",
   "name": "python3"
  },
  "language_info": {
   "codemirror_mode": {
    "name": "ipython",
    "version": 3
   },
   "file_extension": ".py",
   "mimetype": "text/x-python",
   "name": "python",
   "nbconvert_exporter": "python",
   "pygments_lexer": "ipython3",
   "version": "3.8.3"
  }
 },
 "nbformat": 4,
 "nbformat_minor": 4
}
